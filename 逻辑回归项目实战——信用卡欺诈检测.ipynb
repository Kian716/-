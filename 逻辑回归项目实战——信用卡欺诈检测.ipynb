{
 "cells": [
  {
   "cell_type": "markdown",
   "metadata": {},
   "source": [
    "## 信用卡欺诈检测\n",
    "\n",
    "基于信用卡交易记录数据建立分类模型来预测哪些交易记录是异常的哪些是正常的。\n",
    "\n",
    "### 任务流程：\n",
    "* 加载数据，观察问题\n",
    "* 针对问题给出解决方案\n",
    "* 数据集切分\n",
    "* 评估方法对比\n",
    "* 逻辑回归模型\n",
    "* 建模结果分析\n",
    "* 方案效果对比"
   ]
  },
  {
   "cell_type": "markdown",
   "metadata": {},
   "source": [
    "### 1 数据读取与分析"
   ]
  },
  {
   "cell_type": "markdown",
   "metadata": {},
   "source": [
    "- 读取数据"
   ]
  },
  {
   "cell_type": "code",
   "execution_count": 21,
   "metadata": {},
   "outputs": [],
   "source": [
    "import pandas as pd\n",
    "import matplotlib.pyplot as plt\n",
    "import numpy as np\n",
    "%matplotlib inline"
   ]
  },
  {
   "cell_type": "code",
   "execution_count": 22,
   "metadata": {},
   "outputs": [
    {
     "data": {
      "text/html": [
       "<div>\n",
       "<style scoped>\n",
       "    .dataframe tbody tr th:only-of-type {\n",
       "        vertical-align: middle;\n",
       "    }\n",
       "\n",
       "    .dataframe tbody tr th {\n",
       "        vertical-align: top;\n",
       "    }\n",
       "\n",
       "    .dataframe thead th {\n",
       "        text-align: right;\n",
       "    }\n",
       "</style>\n",
       "<table border=\"1\" class=\"dataframe\">\n",
       "  <thead>\n",
       "    <tr style=\"text-align: right;\">\n",
       "      <th></th>\n",
       "      <th>Time</th>\n",
       "      <th>V1</th>\n",
       "      <th>V2</th>\n",
       "      <th>V3</th>\n",
       "      <th>V4</th>\n",
       "      <th>V5</th>\n",
       "      <th>V6</th>\n",
       "      <th>V7</th>\n",
       "      <th>V8</th>\n",
       "      <th>V9</th>\n",
       "      <th>...</th>\n",
       "      <th>V21</th>\n",
       "      <th>V22</th>\n",
       "      <th>V23</th>\n",
       "      <th>V24</th>\n",
       "      <th>V25</th>\n",
       "      <th>V26</th>\n",
       "      <th>V27</th>\n",
       "      <th>V28</th>\n",
       "      <th>Amount</th>\n",
       "      <th>Class</th>\n",
       "    </tr>\n",
       "  </thead>\n",
       "  <tbody>\n",
       "    <tr>\n",
       "      <th>0</th>\n",
       "      <td>0.0</td>\n",
       "      <td>-1.359807</td>\n",
       "      <td>-0.072781</td>\n",
       "      <td>2.536347</td>\n",
       "      <td>1.378155</td>\n",
       "      <td>-0.338321</td>\n",
       "      <td>0.462388</td>\n",
       "      <td>0.239599</td>\n",
       "      <td>0.098698</td>\n",
       "      <td>0.363787</td>\n",
       "      <td>...</td>\n",
       "      <td>-0.018307</td>\n",
       "      <td>0.277838</td>\n",
       "      <td>-0.110474</td>\n",
       "      <td>0.066928</td>\n",
       "      <td>0.128539</td>\n",
       "      <td>-0.189115</td>\n",
       "      <td>0.133558</td>\n",
       "      <td>-0.021053</td>\n",
       "      <td>149.62</td>\n",
       "      <td>0</td>\n",
       "    </tr>\n",
       "    <tr>\n",
       "      <th>1</th>\n",
       "      <td>0.0</td>\n",
       "      <td>1.191857</td>\n",
       "      <td>0.266151</td>\n",
       "      <td>0.166480</td>\n",
       "      <td>0.448154</td>\n",
       "      <td>0.060018</td>\n",
       "      <td>-0.082361</td>\n",
       "      <td>-0.078803</td>\n",
       "      <td>0.085102</td>\n",
       "      <td>-0.255425</td>\n",
       "      <td>...</td>\n",
       "      <td>-0.225775</td>\n",
       "      <td>-0.638672</td>\n",
       "      <td>0.101288</td>\n",
       "      <td>-0.339846</td>\n",
       "      <td>0.167170</td>\n",
       "      <td>0.125895</td>\n",
       "      <td>-0.008983</td>\n",
       "      <td>0.014724</td>\n",
       "      <td>2.69</td>\n",
       "      <td>0</td>\n",
       "    </tr>\n",
       "    <tr>\n",
       "      <th>2</th>\n",
       "      <td>1.0</td>\n",
       "      <td>-1.358354</td>\n",
       "      <td>-1.340163</td>\n",
       "      <td>1.773209</td>\n",
       "      <td>0.379780</td>\n",
       "      <td>-0.503198</td>\n",
       "      <td>1.800499</td>\n",
       "      <td>0.791461</td>\n",
       "      <td>0.247676</td>\n",
       "      <td>-1.514654</td>\n",
       "      <td>...</td>\n",
       "      <td>0.247998</td>\n",
       "      <td>0.771679</td>\n",
       "      <td>0.909412</td>\n",
       "      <td>-0.689281</td>\n",
       "      <td>-0.327642</td>\n",
       "      <td>-0.139097</td>\n",
       "      <td>-0.055353</td>\n",
       "      <td>-0.059752</td>\n",
       "      <td>378.66</td>\n",
       "      <td>0</td>\n",
       "    </tr>\n",
       "    <tr>\n",
       "      <th>3</th>\n",
       "      <td>1.0</td>\n",
       "      <td>-0.966272</td>\n",
       "      <td>-0.185226</td>\n",
       "      <td>1.792993</td>\n",
       "      <td>-0.863291</td>\n",
       "      <td>-0.010309</td>\n",
       "      <td>1.247203</td>\n",
       "      <td>0.237609</td>\n",
       "      <td>0.377436</td>\n",
       "      <td>-1.387024</td>\n",
       "      <td>...</td>\n",
       "      <td>-0.108300</td>\n",
       "      <td>0.005274</td>\n",
       "      <td>-0.190321</td>\n",
       "      <td>-1.175575</td>\n",
       "      <td>0.647376</td>\n",
       "      <td>-0.221929</td>\n",
       "      <td>0.062723</td>\n",
       "      <td>0.061458</td>\n",
       "      <td>123.50</td>\n",
       "      <td>0</td>\n",
       "    </tr>\n",
       "    <tr>\n",
       "      <th>4</th>\n",
       "      <td>2.0</td>\n",
       "      <td>-1.158233</td>\n",
       "      <td>0.877737</td>\n",
       "      <td>1.548718</td>\n",
       "      <td>0.403034</td>\n",
       "      <td>-0.407193</td>\n",
       "      <td>0.095921</td>\n",
       "      <td>0.592941</td>\n",
       "      <td>-0.270533</td>\n",
       "      <td>0.817739</td>\n",
       "      <td>...</td>\n",
       "      <td>-0.009431</td>\n",
       "      <td>0.798278</td>\n",
       "      <td>-0.137458</td>\n",
       "      <td>0.141267</td>\n",
       "      <td>-0.206010</td>\n",
       "      <td>0.502292</td>\n",
       "      <td>0.219422</td>\n",
       "      <td>0.215153</td>\n",
       "      <td>69.99</td>\n",
       "      <td>0</td>\n",
       "    </tr>\n",
       "  </tbody>\n",
       "</table>\n",
       "<p>5 rows × 31 columns</p>\n",
       "</div>"
      ],
      "text/plain": [
       "   Time        V1        V2        V3        V4        V5        V6        V7  \\\n",
       "0   0.0 -1.359807 -0.072781  2.536347  1.378155 -0.338321  0.462388  0.239599   \n",
       "1   0.0  1.191857  0.266151  0.166480  0.448154  0.060018 -0.082361 -0.078803   \n",
       "2   1.0 -1.358354 -1.340163  1.773209  0.379780 -0.503198  1.800499  0.791461   \n",
       "3   1.0 -0.966272 -0.185226  1.792993 -0.863291 -0.010309  1.247203  0.237609   \n",
       "4   2.0 -1.158233  0.877737  1.548718  0.403034 -0.407193  0.095921  0.592941   \n",
       "\n",
       "         V8        V9  ...       V21       V22       V23       V24       V25  \\\n",
       "0  0.098698  0.363787  ... -0.018307  0.277838 -0.110474  0.066928  0.128539   \n",
       "1  0.085102 -0.255425  ... -0.225775 -0.638672  0.101288 -0.339846  0.167170   \n",
       "2  0.247676 -1.514654  ...  0.247998  0.771679  0.909412 -0.689281 -0.327642   \n",
       "3  0.377436 -1.387024  ... -0.108300  0.005274 -0.190321 -1.175575  0.647376   \n",
       "4 -0.270533  0.817739  ... -0.009431  0.798278 -0.137458  0.141267 -0.206010   \n",
       "\n",
       "        V26       V27       V28  Amount  Class  \n",
       "0 -0.189115  0.133558 -0.021053  149.62      0  \n",
       "1  0.125895 -0.008983  0.014724    2.69      0  \n",
       "2 -0.139097 -0.055353 -0.059752  378.66      0  \n",
       "3 -0.221929  0.062723  0.061458  123.50      0  \n",
       "4  0.502292  0.219422  0.215153   69.99      0  \n",
       "\n",
       "[5 rows x 31 columns]"
      ]
     },
     "execution_count": 22,
     "metadata": {},
     "output_type": "execute_result"
    }
   ],
   "source": [
    "data = pd.read_csv(\"creditcard.csv\")\n",
    "data.head()"
   ]
  },
  {
   "cell_type": "markdown",
   "metadata": {},
   "source": [
    "- 查看样本分布"
   ]
  },
  {
   "cell_type": "code",
   "execution_count": 55,
   "metadata": {},
   "outputs": [
    {
     "name": "stdout",
     "output_type": "stream",
     "text": [
      "284807\n"
     ]
    },
    {
     "data": {
      "image/png": "[encoded data removed]",
      "text/plain": [
       "<Figure size 432x288 with 1 Axes>"
      ]
     },
     "metadata": {
      "needs_background": "light"
     },
     "output_type": "display_data"
    }
   ],
   "source": [
    "count_classes = pd.value_counts(data['Class'],sort = True).sort_index()  #sort_index()按索引排序 \n",
    "count_classes.plot(kind = 'bar')\n",
    "plt.title(\"Fraud class histogram\")\n",
    "plt.xlabel(\"Class\")\n",
    "plt.ylabel(\"Frequency\")\n",
    "print(count_classes.sum())"
   ]
  },
  {
   "cell_type": "markdown",
   "metadata": {},
   "source": [
    ">- 样本类别不均衡，需要进行解决\n",
    "- 样本类别不均衡解决方案：\n",
    "    1. 欠采样\n",
    "    2. 过采样"
   ]
  },
  {
   "cell_type": "markdown",
   "metadata": {},
   "source": [
    "`注意` ：在开始阶段应该多提出各种解决和对比方案，尽可能先把全局规划制定完整"
   ]
  },
  {
   "cell_type": "markdown",
   "metadata": {},
   "source": [
    "### 2 数据预处理"
   ]
  },
  {
   "cell_type": "markdown",
   "metadata": {},
   "source": [
    ">- 特征标准化：\n",
    "    - 模型不像人类，它可能会认为数值大的数据更重要，所以这里需要将Amount列数据进行标准化\n",
    "    - 特征标准化就是希望数据在处理完之后每个特征数值都在较小范围内浮动\n",
    "    - 公式：$Z=\\dfrac{X-X{mean}}{std(X)}$"
   ]
  },
  {
   "cell_type": "markdown",
   "metadata": {},
   "source": [
    ">- sklearn：\n",
    "    - 提供几乎所有机器学习算法，一两行代码即可完成建模工作\n",
    "    - 提供机器学习中最核心三大模块（分类、回归、聚类）的实现方法供调用，还包括数据降维、模型选数据预处理等模块\n",
    "    - 多看其API"
   ]
  },
  {
   "cell_type": "markdown",
   "metadata": {},
   "source": [
    "- 利用sklearn进行特征标准化"
   ]
  },
  {
   "cell_type": "code",
   "execution_count": 24,
   "metadata": {},
   "outputs": [
    {
     "data": {
      "text/html": [
       "<div>\n",
       "<style scoped>\n",
       "    .dataframe tbody tr th:only-of-type {\n",
       "        vertical-align: middle;\n",
       "    }\n",
       "\n",
       "    .dataframe tbody tr th {\n",
       "        vertical-align: top;\n",
       "    }\n",
       "\n",
       "    .dataframe thead th {\n",
       "        text-align: right;\n",
       "    }\n",
       "</style>\n",
       "<table border=\"1\" class=\"dataframe\">\n",
       "  <thead>\n",
       "    <tr style=\"text-align: right;\">\n",
       "      <th></th>\n",
       "      <th>V1</th>\n",
       "      <th>V2</th>\n",
       "      <th>V3</th>\n",
       "      <th>V4</th>\n",
       "      <th>V5</th>\n",
       "      <th>V6</th>\n",
       "      <th>V7</th>\n",
       "      <th>V8</th>\n",
       "      <th>V9</th>\n",
       "      <th>V10</th>\n",
       "      <th>...</th>\n",
       "      <th>V21</th>\n",
       "      <th>V22</th>\n",
       "      <th>V23</th>\n",
       "      <th>V24</th>\n",
       "      <th>V25</th>\n",
       "      <th>V26</th>\n",
       "      <th>V27</th>\n",
       "      <th>V28</th>\n",
       "      <th>Class</th>\n",
       "      <th>normAmount</th>\n",
       "    </tr>\n",
       "  </thead>\n",
       "  <tbody>\n",
       "    <tr>\n",
       "      <th>0</th>\n",
       "      <td>-1.359807</td>\n",
       "      <td>-0.072781</td>\n",
       "      <td>2.536347</td>\n",
       "      <td>1.378155</td>\n",
       "      <td>-0.338321</td>\n",
       "      <td>0.462388</td>\n",
       "      <td>0.239599</td>\n",
       "      <td>0.098698</td>\n",
       "      <td>0.363787</td>\n",
       "      <td>0.090794</td>\n",
       "      <td>...</td>\n",
       "      <td>-0.018307</td>\n",
       "      <td>0.277838</td>\n",
       "      <td>-0.110474</td>\n",
       "      <td>0.066928</td>\n",
       "      <td>0.128539</td>\n",
       "      <td>-0.189115</td>\n",
       "      <td>0.133558</td>\n",
       "      <td>-0.021053</td>\n",
       "      <td>0</td>\n",
       "      <td>0.244964</td>\n",
       "    </tr>\n",
       "    <tr>\n",
       "      <th>1</th>\n",
       "      <td>1.191857</td>\n",
       "      <td>0.266151</td>\n",
       "      <td>0.166480</td>\n",
       "      <td>0.448154</td>\n",
       "      <td>0.060018</td>\n",
       "      <td>-0.082361</td>\n",
       "      <td>-0.078803</td>\n",
       "      <td>0.085102</td>\n",
       "      <td>-0.255425</td>\n",
       "      <td>-0.166974</td>\n",
       "      <td>...</td>\n",
       "      <td>-0.225775</td>\n",
       "      <td>-0.638672</td>\n",
       "      <td>0.101288</td>\n",
       "      <td>-0.339846</td>\n",
       "      <td>0.167170</td>\n",
       "      <td>0.125895</td>\n",
       "      <td>-0.008983</td>\n",
       "      <td>0.014724</td>\n",
       "      <td>0</td>\n",
       "      <td>-0.342475</td>\n",
       "    </tr>\n",
       "    <tr>\n",
       "      <th>2</th>\n",
       "      <td>-1.358354</td>\n",
       "      <td>-1.340163</td>\n",
       "      <td>1.773209</td>\n",
       "      <td>0.379780</td>\n",
       "      <td>-0.503198</td>\n",
       "      <td>1.800499</td>\n",
       "      <td>0.791461</td>\n",
       "      <td>0.247676</td>\n",
       "      <td>-1.514654</td>\n",
       "      <td>0.207643</td>\n",
       "      <td>...</td>\n",
       "      <td>0.247998</td>\n",
       "      <td>0.771679</td>\n",
       "      <td>0.909412</td>\n",
       "      <td>-0.689281</td>\n",
       "      <td>-0.327642</td>\n",
       "      <td>-0.139097</td>\n",
       "      <td>-0.055353</td>\n",
       "      <td>-0.059752</td>\n",
       "      <td>0</td>\n",
       "      <td>1.160686</td>\n",
       "    </tr>\n",
       "    <tr>\n",
       "      <th>3</th>\n",
       "      <td>-0.966272</td>\n",
       "      <td>-0.185226</td>\n",
       "      <td>1.792993</td>\n",
       "      <td>-0.863291</td>\n",
       "      <td>-0.010309</td>\n",
       "      <td>1.247203</td>\n",
       "      <td>0.237609</td>\n",
       "      <td>0.377436</td>\n",
       "      <td>-1.387024</td>\n",
       "      <td>-0.054952</td>\n",
       "      <td>...</td>\n",
       "      <td>-0.108300</td>\n",
       "      <td>0.005274</td>\n",
       "      <td>-0.190321</td>\n",
       "      <td>-1.175575</td>\n",
       "      <td>0.647376</td>\n",
       "      <td>-0.221929</td>\n",
       "      <td>0.062723</td>\n",
       "      <td>0.061458</td>\n",
       "      <td>0</td>\n",
       "      <td>0.140534</td>\n",
       "    </tr>\n",
       "    <tr>\n",
       "      <th>4</th>\n",
       "      <td>-1.158233</td>\n",
       "      <td>0.877737</td>\n",
       "      <td>1.548718</td>\n",
       "      <td>0.403034</td>\n",
       "      <td>-0.407193</td>\n",
       "      <td>0.095921</td>\n",
       "      <td>0.592941</td>\n",
       "      <td>-0.270533</td>\n",
       "      <td>0.817739</td>\n",
       "      <td>0.753074</td>\n",
       "      <td>...</td>\n",
       "      <td>-0.009431</td>\n",
       "      <td>0.798278</td>\n",
       "      <td>-0.137458</td>\n",
       "      <td>0.141267</td>\n",
       "      <td>-0.206010</td>\n",
       "      <td>0.502292</td>\n",
       "      <td>0.219422</td>\n",
       "      <td>0.215153</td>\n",
       "      <td>0</td>\n",
       "      <td>-0.073403</td>\n",
       "    </tr>\n",
       "  </tbody>\n",
       "</table>\n",
       "<p>5 rows × 30 columns</p>\n",
       "</div>"
      ],
      "text/plain": [
       "         V1        V2        V3        V4        V5        V6        V7  \\\n",
       "0 -1.359807 -0.072781  2.536347  1.378155 -0.338321  0.462388  0.239599   \n",
       "1  1.191857  0.266151  0.166480  0.448154  0.060018 -0.082361 -0.078803   \n",
       "2 -1.358354 -1.340163  1.773209  0.379780 -0.503198  1.800499  0.791461   \n",
       "3 -0.966272 -0.185226  1.792993 -0.863291 -0.010309  1.247203  0.237609   \n",
       "4 -1.158233  0.877737  1.548718  0.403034 -0.407193  0.095921  0.592941   \n",
       "\n",
       "         V8        V9       V10  ...       V21       V22       V23       V24  \\\n",
       "0  0.098698  0.363787  0.090794  ... -0.018307  0.277838 -0.110474  0.066928   \n",
       "1  0.085102 -0.255425 -0.166974  ... -0.225775 -0.638672  0.101288 -0.339846   \n",
       "2  0.247676 -1.514654  0.207643  ...  0.247998  0.771679  0.909412 -0.689281   \n",
       "3  0.377436 -1.387024 -0.054952  ... -0.108300  0.005274 -0.190321 -1.175575   \n",
       "4 -0.270533  0.817739  0.753074  ... -0.009431  0.798278 -0.137458  0.141267   \n",
       "\n",
       "        V25       V26       V27       V28  Class  normAmount  \n",
       "0  0.128539 -0.189115  0.133558 -0.021053      0    0.244964  \n",
       "1  0.167170  0.125895 -0.008983  0.014724      0   -0.342475  \n",
       "2 -0.327642 -0.139097 -0.055353 -0.059752      0    1.160686  \n",
       "3  0.647376 -0.221929  0.062723  0.061458      0    0.140534  \n",
       "4 -0.206010  0.502292  0.219422  0.215153      0   -0.073403  \n",
       "\n",
       "[5 rows x 30 columns]"
      ]
     },
     "execution_count": 24,
     "metadata": {},
     "output_type": "execute_result"
    }
   ],
   "source": [
    "from sklearn.preprocessing import StandardScaler\n",
    "#将Amount列的值标准化进行标准化，并用标准化之后值新创建一列normAmount\n",
    "#reshape(-1,1)是指将数据转换成一列的形式\n",
    "data['normAmount'] = StandardScaler().fit_transform(data['Amount'].values.reshape(-1,1))\n",
    "data.drop(['Time','Amount'],axis=1,inplace=True) #设置inplace=True才真正drop\n",
    "data.head()"
   ]
  },
  {
   "cell_type": "markdown",
   "metadata": {},
   "source": [
    "- 欠采样"
   ]
  },
  {
   "cell_type": "code",
   "execution_count": 25,
   "metadata": {},
   "outputs": [
    {
     "name": "stdout",
     "output_type": "stream",
     "text": [
      "正常样本所占整体比例： 0.5\n",
      "异常样本所占整体比例： 0.5\n",
      "欠采样策略总体样本数量： 984\n"
     ]
    }
   ],
   "source": [
    "np.random.seed(1)\n",
    "#特征\n",
    "X = data.loc[:,data.columns!='Class']\n",
    "#标签\n",
    "y = data.loc[:,data.columns=='Class']\n",
    "number_records_fraud = len(data[data.Class==1])\n",
    "#得到所有异常样本索引\n",
    "fraud_indices = np.array(data[data.Class==1].index)\n",
    "#得到所有正常样本的索引\n",
    "normal_indices =np.array(data[data.Class==0].index)\n",
    "#在正常样本中随机采样出与异常样本相同个数的样本，并取其索引；replace=True表示可以反复取同一个数，False则反之\n",
    "random_normal_indices = np.random.choice(normal_indices,number_records_fraud,replace=False) \n",
    "#把异常样本和采样得到的正常样本索引拿到手\n",
    "under_sample_indices = np.concatenate([fraud_indices,random_normal_indices])\n",
    "#根据索引得到欠采样所有样本点\n",
    "under_sample_data = data.iloc[under_sample_indices,:]\n",
    "X_undersample = under_sample_data.loc[:,under_sample_data.columns!='Class']\n",
    "y_undersample = under_sample_data.loc[:,under_sample_data.columns=='Class']\n",
    "#打印采样后的正负样本比例\n",
    "print(\"正常样本所占整体比例：\",len(under_sample_data[under_sample_data.Class==0])/len(under_sample_data))\n",
    "print(\"异常样本所占整体比例：\",len(under_sample_data[under_sample_data.Class==1])/len(under_sample_data))\n",
    "print(\"欠采样策略总体样本数量：\",len(under_sample_data))"
   ]
  },
  {
   "cell_type": "markdown",
   "metadata": {},
   "source": [
    ">- 数据集的划分\n",
    "    - 训练集：用于建立模型\n",
    "    - 测试集：在所有建模工作完成之后，用于对这个模型效果进行测试\n",
    "    - 验证集：用于建立模型过程中，帮助模型进行调参和模型选择；从训练集中划分出来"
   ]
  },
  {
   "cell_type": "markdown",
   "metadata": {},
   "source": [
    "- 划分数据集，先进行训练集与测试集的划分，运用sklearn（切分验证集的工作留到建模部分）"
   ]
  },
  {
   "cell_type": "code",
   "execution_count": 26,
   "metadata": {},
   "outputs": [
    {
     "name": "stdout",
     "output_type": "stream",
     "text": [
      "原始训练集包含样本数量： 199364\n",
      "原始测试集包含样本数量： 85443\n",
      "原始样本总数： 284807\n",
      "欠采样训练集包含样本数量： 688\n",
      "欠采样测试集包含样本数量： 296\n",
      "欠采样样本总数： 984\n"
     ]
    }
   ],
   "source": [
    "from sklearn.model_selection import train_test_split\n",
    "#对整个数据集进行切分，random_state为随机种子\n",
    "X_train, X_test, y_train, y_test = train_test_split(X, y, test_size=0.3, random_state=0)\n",
    "print(\"原始训练集包含样本数量：\", len(X_train))\n",
    "print(\"原始测试集包含样本数量：\", len(X_test))\n",
    "print(\"原始样本总数：\", len(X))\n",
    "\n",
    "#对欠采样数据集进行切分\n",
    "X_train_undersample, X_test_undersample, y_train_undersample, y_test_undersample = train_test_split(X_undersample, y_undersample, test_size=0.3, random_state=0)\n",
    "print(\"欠采样训练集包含样本数量：\", len(X_train_undersample))\n",
    "print(\"欠采样测试集包含样本数量：\", len(X_test_undersample))\n",
    "print(\"欠采样样本总数：\", len(X_undersample))"
   ]
  },
  {
   "cell_type": "markdown",
   "metadata": {},
   "source": [
    "- 考虑模型评估方法"
   ]
  },
  {
   "cell_type": "markdown",
   "metadata": {},
   "source": [
    "> - 模型评估\n",
    "    - 选择合适的评估方法非常重要，它为整个实验提供决策的服务\n",
    "    - 准确率：预测正确的样本数占总数的比例$Accuracy=\\dfrac{TP+TN}{TP+TN+FP+FN}$\n",
    "    - 召回率：所有正例中有多少被判为正例$Recall=\\dfrac{TP}{TP+FN}$\n",
    "    - 精确度：判断为正例的样本中有多少是真的正例$Recall=\\dfrac{TP}{TP+FP}$"
   ]
  },
  {
   "cell_type": "markdown",
   "metadata": {},
   "source": [
    "- 考虑过拟合（引入正则化惩罚）"
   ]
  },
  {
   "cell_type": "markdown",
   "metadata": {},
   "source": [
    "> - 正则化惩罚\n",
    "    - 过拟合：随着模型复杂程度增加，训练集效果越来越好，测试集效果越来越差\n",
    "    - 模型复杂度由参数决定\n",
    "    - 如果在训练集上得到的参数值忽高忽低，很可能导致过拟合，***正则化惩罚就是惩罚较大的权重参数，让它们对结果影响小一点***，从而缓解过拟合\n",
    "    - 惩罚项会和目标函数组合在一起，让模型在迭代过程中就开始重视这个问题\n",
    "  > - L1正则化：$J=J_{0}+\\alpha\\displaystyle \\sum_{w}\\left\\vert w\\right\\vert$\n",
    "  > - L2正则化：$J=J_{0}+\\alpha\\displaystyle \\sum_{w} w^2$\n",
    "  - L2正则化对参数求平方，让大的更大，相对惩罚也就越多\n",
    "  - 正则化项可以理解为“惩罚项”\n",
    "  - $\\alpha$表示正则惩罚的力度\n",
    "      - $\\alpha$值很大，说明要非常严格地对待权重参数，惩罚的结果影响很大\n",
    "      - $\\alpha$值很小，惩罚的结果影响不大"
   ]
  },
  {
   "cell_type": "markdown",
   "metadata": {},
   "source": [
    "`注意：`最终结果的定论由测试集决定，训练集上的效果仅供参考，因为训练集上过拟合现象十分常见"
   ]
  },
  {
   "cell_type": "markdown",
   "metadata": {},
   "source": [
    "### 3 建立模型"
   ]
  },
  {
   "cell_type": "markdown",
   "metadata": {},
   "source": [
    "> 关于建模\n",
    "- 在sklearn包中，所有算法的建模调用都是类似的\n",
    "    1. 首先选择需要的算法模型并传入超参数\n",
    "    2. 然后.fit()传入实际数据进行迭代\n",
    "    3. 最后用.predict()进行预测"
   ]
  },
  {
   "cell_type": "markdown",
   "metadata": {},
   "source": [
    "- 逻辑回归模型中，仅需要对$\\alpha$进行调参实验，下面针对不同验证集分别进行建模与评估分析"
   ]
  },
  {
   "cell_type": "markdown",
   "metadata": {},
   "source": [
    "`注意：`在sklearn包中，C参数的意义是倒过来的，C=0.01表示正则力度较大"
   ]
  },
  {
   "cell_type": "code",
   "execution_count": 27,
   "metadata": {},
   "outputs": [],
   "source": [
    "from sklearn.linear_model import LogisticRegression\n",
    "from sklearn.model_selection import KFold, cross_val_score\n",
    "from sklearn.metrics import recall_score"
   ]
  },
  {
   "cell_type": "code",
   "execution_count": 28,
   "metadata": {},
   "outputs": [],
   "source": [
    "def printing_Kfold_scores(x_train_data, y_train_data):\n",
    "    #定义k_fold工具\n",
    "    fold = KFold(5, shuffle=False) #shufffle=True指每次都打乱数据集之后再划分\n",
    "    #定义不同的正则化惩罚力度（候选参数）\n",
    "    c_param_range = [0.01, 0.1, 1, 10, 100]\n",
    "    #展示结果用的表格;range(len(c_param_range),2)=null\n",
    "    result_table = pd.DataFrame(index=range(len(c_param_range), 2), columns = ['C_parameter', 'Mean recall score'])\n",
    "    result_table['C_parameter'] = c_param_range\n",
    "    \n",
    "    j = 0 #第几个候选参数\n",
    "    for c_param in c_param_range:\n",
    "        print('-------------------------------------')\n",
    "        print('正则化惩罚力度：',c_param)\n",
    "        print('-------------------------------------')\n",
    "        print('') #换行\n",
    "        recall_accs = []\n",
    "        \n",
    "        #enmuerate用于将一个可遍历的数据对象组合成一个索引序列，start=1指索引从1开始\n",
    "        #indices表示k折划分后产生的k个训练集验证集组合，iteration为组合的索引从1开始\n",
    "        #indices[0]=训练集样本索引,indices[1]=验证集样本索引\n",
    "        for iteration, indices in enumerate(fold.split(y_train_data),start=1):\n",
    "            #指定算法模型，并给定参数\n",
    "            lr = LogisticRegression(C = c_param, penalty='l1',solver = 'liblinear')\n",
    "            #训练模型，这里用训练集，索引为0\n",
    "            lr.fit(x_train_data.iloc[indices[0],:].values,y_train_data.iloc[indices[0],:].values.ravel()) #ravel将数组拉为一维的\n",
    "            #建立好模型后，预测模型结果，这里用验证集，索引为1;fit与predict传入的都是验证集样本的value而不是dataframe\n",
    "            y_pred_undersample = lr.predict(x_train_data.iloc[indices[1],:].values)\n",
    "            #有了预测结果之后就可以进行评估了，recall_score需要传入预测值和真实值\n",
    "            recall_acc = recall_score(y_train_data.iloc[indices[1],:].values,y_pred_undersample)\n",
    "            #一会还要算平均，所以把每一步的结果都先保存起来\n",
    "            recall_accs.append(recall_acc)\n",
    "            print('Interation', iteration, '：召回率 = ', recall_acc)\n",
    "        #执行完所有交叉验证后，计算平均结果\n",
    "        result_table.loc[j,'Mean recall score'] = np.mean(recall_accs)\n",
    "        j += 1\n",
    "        print('')\n",
    "        print('平均召回率', np.mean(recall_accs))\n",
    "        print('')\n",
    "        \n",
    "    #找到最好的参数\n",
    "    best_c = result_table.loc[result_table['Mean recall score'].astype('float32').idxmax()]['C_parameter']\n",
    "    \n",
    "    #打印最好的结果\n",
    "    print('*********************************************************************************')\n",
    "    print('效果最好的模型所选的参数 = ', best_c)\n",
    "    print('*********************************************************************************')\n",
    "    \n",
    "    return best_c\n",
    "        "
   ]
  },
  {
   "cell_type": "markdown",
   "metadata": {},
   "source": [
    "> 解决问题1\n",
    "- 问题描述：shuffle must be True or False; got 5\n",
    "- 原来：\n",
    "    - `fold = KFold(len(y_train_data), 5, shuffle=False)`\n",
    "    - `for iteration, indices in enumerate(fold,start=1):`\n",
    "- 改进：\n",
    "    - `fold = KFold(5, shuffle=False)`\n",
    "    - `for iteration, indices in enumerate(fold.split(y_train_data,start=1):`\n",
    "    \n",
    "> 解决问题2\n",
    "- 问题描述：Solver lbfgs supports only 'l2' or 'none' penalties, got l1 penalty.\n",
    "- 查阅API发现，solver的可选参数有如下要求：\n",
    "     - 'newton-cg', 'lbfgs', 'sag' and 'saga' handle L2 or no penalty\n",
    "     - 'liblinear' and 'saga' also handle L1 penalty\n",
    "- 原来：\n",
    "     - `lr = LogisticRegression(C = c_param, penalty='l1')`\n",
    "- 改进：\n",
    "     - `lr = LogisticRegression(C = c_param, penalty='l1', solver = 'liblinear')`\n",
    "     \n",
    "> 解决问题3\n",
    "- 问题描述：DataConversionWarning: A column-vector y was passed when a 1d array was expected. Please change the shape of y to (n_samples, ), for example using ravel().\n",
    "  return f(**kwargs)\n",
    "- 原来：\n",
    "    - `lr.fit(x_train_data.iloc[indices[0],:],y_train_data.iloc[indices[0],:].values)`\n",
    "- 改进：\n",
    "    - `lr.fit(x_train_data.iloc[indices[0],:],y_train_data.iloc[indices[0],:].values.ravel())`\n",
    "    \n",
    ">解决问题4\n",
    "- 问题描述：UserWarning: X does not have valid feature names, but LogisticRegression was fitted with feature names\n",
    "- 原来：`lr.fit(x_train_data.iloc[indices[0],:],y_train_data.iloc[indices[0],:].values.ravel())`\n",
    "- 改进：`lr.fit(x_train_data.iloc[indices[0],:].values,y_train_data.iloc[indices[0],:].values.ravel())`"
   ]
  },
  {
   "cell_type": "code",
   "execution_count": 31,
   "metadata": {},
   "outputs": [
    {
     "name": "stdout",
     "output_type": "stream",
     "text": [
      "-------------------------------------\n",
      "正则化惩罚力度： 0.01\n",
      "-------------------------------------\n",
      "\n",
      "Interation 1 ：召回率 =  0.9315068493150684\n",
      "Interation 2 ：召回率 =  0.9178082191780822\n",
      "Interation 3 ：召回率 =  1.0\n",
      "Interation 4 ：召回率 =  0.9594594594594594\n",
      "Interation 5 ：召回率 =  0.9545454545454546\n",
      "\n",
      "平均召回率 0.9526639964996129\n",
      "\n",
      "-------------------------------------\n",
      "正则化惩罚力度： 0.1\n",
      "-------------------------------------\n",
      "\n",
      "Interation 1 ：召回率 =  0.8493150684931506\n",
      "Interation 2 ：召回率 =  0.863013698630137\n",
      "Interation 3 ：召回率 =  0.9322033898305084\n",
      "Interation 4 ：召回率 =  0.9324324324324325\n",
      "Interation 5 ：召回率 =  0.8939393939393939\n",
      "\n",
      "平均召回率 0.8941807966651245\n",
      "\n",
      "-------------------------------------\n",
      "正则化惩罚力度： 1\n",
      "-------------------------------------\n",
      "\n",
      "Interation 1 ：召回率 =  0.8493150684931506\n",
      "Interation 2 ：召回率 =  0.8904109589041096\n",
      "Interation 3 ：召回率 =  0.9830508474576272\n",
      "Interation 4 ：召回率 =  0.9459459459459459\n",
      "Interation 5 ：召回率 =  0.9090909090909091\n",
      "\n",
      "平均召回率 0.9155627459783485\n",
      "\n",
      "-------------------------------------\n",
      "正则化惩罚力度： 10\n",
      "-------------------------------------\n",
      "\n",
      "Interation 1 ：召回率 =  0.863013698630137\n",
      "Interation 2 ：召回率 =  0.8904109589041096\n",
      "Interation 3 ：召回率 =  0.9830508474576272\n",
      "Interation 4 ：召回率 =  0.9459459459459459\n",
      "Interation 5 ：召回率 =  0.9090909090909091\n",
      "\n",
      "平均召回率 0.9183024720057457\n",
      "\n",
      "-------------------------------------\n",
      "正则化惩罚力度： 100\n",
      "-------------------------------------\n",
      "\n",
      "Interation 1 ：召回率 =  0.863013698630137\n",
      "Interation 2 ：召回率 =  0.8904109589041096\n",
      "Interation 3 ：召回率 =  0.9830508474576272\n",
      "Interation 4 ：召回率 =  0.9459459459459459\n",
      "Interation 5 ：召回率 =  0.9242424242424242\n",
      "\n",
      "平均召回率 0.9213327750360488\n",
      "\n",
      "*********************************************************************************\n",
      "效果最好的模型所选的参数 =  0.01\n",
      "*********************************************************************************\n"
     ]
    }
   ],
   "source": [
    "# 传入欠采样策略训练集\n",
    "best_c = printing_Kfold_scores(X_train_undersample,y_train_undersample)"
   ]
  },
  {
   "cell_type": "markdown",
   "metadata": {},
   "source": [
    "- 为了知道模型的具体表现，需要再深入分析：  \n",
    "借助测试集，并将预测结果直观地进行展示————混淆矩阵"
   ]
  },
  {
   "cell_type": "markdown",
   "metadata": {},
   "source": [
    "`注意：`下面的代码当成混淆矩阵模版，用的时候传入自己的数据即可"
   ]
  },
  {
   "cell_type": "code",
   "execution_count": 10,
   "metadata": {},
   "outputs": [],
   "source": [
    "#cm：混淆矩阵，classes：分类类别\n",
    "def plot_confusion_matrix(cm, classes,\n",
    "                          title='Confusion matrix',\n",
    "                          cmap=plt.cm.Blues):\n",
    "    \"\"\"\n",
    "    绘制混淆矩阵\n",
    "    \"\"\"\n",
    "    plt.imshow(cm, interpolation='nearest', cmap=cmap)\n",
    "    plt.title(title)\n",
    "    plt.colorbar()\n",
    "    tick_marks = np.arange(len(classes))\n",
    "    plt.xticks(tick_marks, classes, rotation=0)\n",
    "    plt.yticks(tick_marks, classes)\n",
    "\n",
    "    thresh = cm.max() / 2.\n",
    "    for i, j in itertools.product(range(cm.shape[0]), range(cm.shape[1])):\n",
    "        plt.text(j, i, cm[i, j],\n",
    "                 horizontalalignment=\"center\",\n",
    "                 color=\"white\" if cm[i, j] > thresh else \"black\")\n",
    "\n",
    "    plt.tight_layout()\n",
    "    plt.ylabel('True label')\n",
    "    plt.xlabel('Predicted label')"
   ]
  },
  {
   "cell_type": "code",
   "execution_count": 18,
   "metadata": {},
   "outputs": [
    {
     "name": "stdout",
     "output_type": "stream",
     "text": [
      "召回率： 0.9387755102040817\n"
     ]
    },
    {
     "data": {
      "image/png": "[encoded data removed]",
      "text/plain": [
       "<Figure size 432x288 with 2 Axes>"
      ]
     },
     "metadata": {
      "needs_background": "light"
     },
     "output_type": "display_data"
    }
   ],
   "source": [
    "from sklearn.metrics import confusion_matrix\n",
    "import itertools\n",
    "#先训练好模型\n",
    "lr = LogisticRegression(C = best_c, penalty = 'l1',solver='liblinear')\n",
    "lr.fit(X_train_undersample.values, y_train_undersample.values.ravel())\n",
    "#传入测试集进行预测\n",
    "y_pred_undersample = lr.predict(X_test_undersample.values)\n",
    "#计算混淆矩阵,传入测试集预测值与真实值\n",
    "cnf_matrix = confusion_matrix(y_test_undersample, y_pred_undersample)\n",
    "#打印召回率\n",
    "np.set_printoptions(precision = 2) #设置小数位数\n",
    "print(\"召回率：\",cnf_matrix[1,1]/(cnf_matrix[1,0]+cnf_matrix[1,1]))\n",
    "#绘制混淆矩阵\n",
    "class_names = [0,1] #分类类别\n",
    "plot_confusion_matrix(cnf_matrix, classes=class_names, title='Confusion matrix')"
   ]
  },
  {
   "cell_type": "markdown",
   "metadata": {},
   "source": [
    "`注意：`上述测试结果虚高，因为测试集是欠采样的测试集，这份测试集是处理之后异常样本和正常样本比例均衡的理想状态\n",
    "> - 测试环节 \n",
    "    - 在测试时需要用原始数据的测试集进行测试\n",
    "    - 在实际的测试中，不仅要考虑评估方法、模型的具体指标（召回率、精度等），还要注重实际应用情况，再深入混淆矩阵中，看看还有哪些实际问题"
   ]
  },
  {
   "cell_type": "markdown",
   "metadata": {},
   "source": [
    "- 下面用原始数据的测试集进行测试"
   ]
  },
  {
   "cell_type": "code",
   "execution_count": 19,
   "metadata": {},
   "outputs": [
    {
     "name": "stdout",
     "output_type": "stream",
     "text": [
      "召回率： 0.9183673469387755\n"
     ]
    },
    {
     "data": {
      "image/png": "[encoded data removed]",
      "text/plain": [
       "<Figure size 432x288 with 2 Axes>"
      ]
     },
     "metadata": {
      "needs_background": "light"
     },
     "output_type": "display_data"
    }
   ],
   "source": [
    "#先训练好模型\n",
    "lr = LogisticRegression(C = best_c, penalty = 'l1',solver='liblinear')\n",
    "lr.fit(X_train_undersample.values, y_train_undersample.values.ravel())\n",
    "#传入测试集进行预测\n",
    "y_pred = lr.predict(X_test.values)\n",
    "#计算混淆矩阵,传入测试集预测值与真实值\n",
    "cnf_matrix = confusion_matrix(y_test, y_pred)\n",
    "#打印召回率\n",
    "np.set_printoptions(precision = 2) #设置小数位数\n",
    "print(\"召回率：\",cnf_matrix[1,1]/(cnf_matrix[1,0]+cnf_matrix[1,1]))\n",
    "#绘制混淆矩阵\n",
    "class_names = [0,1] #分类类别\n",
    "plot_confusion_matrix(cnf_matrix, classes=class_names, title='Confusion matrix')"
   ]
  },
  {
   "cell_type": "markdown",
   "metadata": {},
   "source": [
    "- 从上述混淆矩阵中可以看到有9022个样本被“误杀”，模型出现大问题，需要改进"
   ]
  },
  {
   "cell_type": "markdown",
   "metadata": {},
   "source": [
    "> - 模型改进\n",
    "    - 方法一：对模型调整参数，不断优化算法\n",
    "    - 方法二（推荐）：在数据层面做一些处理"
   ]
  },
  {
   "cell_type": "markdown",
   "metadata": {},
   "source": [
    "- 下面先考虑逻辑回归中分类阈值对结果的影响\n",
    "    - sklearn中可以用.predict()来得到分类结果（默认阈值为0.5），也可以用.predict_proba()来得到其概率值\n",
    "    - 阈值设置得越大，说明只有非常异常的样本才能当作异常\n",
    "    - 阈值设置得很小，就是宁可错杀也不肯放过"
   ]
  },
  {
   "cell_type": "code",
   "execution_count": 15,
   "metadata": {},
   "outputs": [
    {
     "name": "stdout",
     "output_type": "stream",
     "text": [
      "给定阈值为: 0.1 时测试集召回率为 1.0\n",
      "给定阈值为: 0.2 时测试集召回率为 1.0\n",
      "给定阈值为: 0.3 时测试集召回率为 1.0\n",
      "给定阈值为: 0.4 时测试集召回率为 0.9727891156462585\n",
      "给定阈值为: 0.5 时测试集召回率为 0.9387755102040817\n",
      "给定阈值为: 0.6 时测试集召回率为 0.8775510204081632\n",
      "给定阈值为: 0.7 时测试集召回率为 0.8163265306122449\n",
      "给定阈值为: 0.8 时测试集召回率为 0.7551020408163265\n",
      "给定阈值为: 0.9 时测试集召回率为 0.5782312925170068\n"
     ]
    },
    {
     "data": {
      "image/png": "[encoded data removed]",
      "text/plain": [
       "<Figure size 720x720 with 18 Axes>"
      ]
     },
     "metadata": {
      "needs_background": "light"
     },
     "output_type": "display_data"
    }
   ],
   "source": [
    "#用之前最好的参数进行建模\n",
    "lr = LogisticRegression(C=0.01,penalty='l1',solver='liblinear')\n",
    "#训练模型，还是用的欠采样训练集与测试集\n",
    "lr.fit(X_train_undersample.values, y_train_undersample.values.ravel())\n",
    "#得到预测结果的概率值(此时默认阈值为0.5)\n",
    "#.predict_proba()返回n行k列的数组，第i行第j列表示第i个样本预测为第j个标签的概率\n",
    "y_pred_undersample_proba = lr.predict_proba(X_test_undersample.values) \n",
    "#指定不同的阈值\n",
    "thresholds = [0.1, 0.2, 0.3, 0.4, 0.5, 0.6, 0.7, 0.8, 0.9]\n",
    "plt.figure(figsize=(10,10))\n",
    "j = 1\n",
    "# #用混淆矩阵进行展示\n",
    "for i in thresholds:\n",
    "    #比较预测概率与给定阈值\n",
    "    y_test_preditions_high_recall = y_pred_undersample_proba[:,1] > i #判断数组中每个元素（元素也是一个数组）的第二列是否大于i，返回bool\n",
    "    \n",
    "    plt.subplot(3,3,j)\n",
    "    j += 1\n",
    "    cnf_matrix = confusion_matrix(y_test_undersample, y_test_preditions_high_recall)\n",
    "    np.set_printoptions(precision = 2)\n",
    "    \n",
    "    print(\"给定阈值为:\", i, \"时测试集召回率为\", cnf_matrix[1,1]/(cnf_matrix[1,0]+cnf_matrix[1,1]))\n",
    "    class_names = [0,1]\n",
    "    plot_confusion_matrix(cnf_matrix, classes=class_names, title='Threshold >= %s'%i)"
   ]
  },
  {
   "cell_type": "markdown",
   "metadata": {},
   "source": [
    "- 具体选择哪个阈值，需要从实际业务的角度出发"
   ]
  },
  {
   "cell_type": "markdown",
   "metadata": {},
   "source": [
    "- 下面采用过采样方案，试试能否优化模型"
   ]
  },
  {
   "cell_type": "markdown",
   "metadata": {},
   "source": [
    "> - 过采样策略SMOTE（插值法）\n",
    "    1. 第一步：对于少数类中每一个样本，以欧式距离为标准，计算它到少数类样本集中所有样本的距离，经过排序得到其近邻样本\n",
    "    2. 第二步：根据样本不平衡比例设置一个采样倍率N，对于每一个少数样本，从其近邻开始依次选择N个样本\n",
    "    3. 对于每一个选出的近邻样本，分别与原样本按照如下的公式构建新的样本数据：$x_{new}=x+rand(0,1)\\times(\\overset{\\thicksim}{x}-x)$\n",
    "- 总结：对于每一个异常样本，首先找到距离其最近的同类样本，然后在它们之间，插入一个样本作为新的异常样本\n",
    "- 使用imblearn工具包即可完成SMOTE过采样,只需传入特征数据和标签"
   ]
  },
  {
   "cell_type": "code",
   "execution_count": 50,
   "metadata": {},
   "outputs": [],
   "source": [
    "from imblearn.over_sampling import SMOTE\n",
    "from sklearn.model_selection import train_test_split\n",
    "import pandas as pd"
   ]
  },
  {
   "cell_type": "code",
   "execution_count": 44,
   "metadata": {},
   "outputs": [],
   "source": [
    "credit_cards = pd.read_csv('creditcard.csv')\n",
    "columns = credit_cards.columns\n",
    "features_columns = columns.delete(len(columns)-1) #特征中去掉标签列\n",
    "\n",
    "features = credit_cards[features_columns]\n",
    "labels = credit_cards['Class']\n",
    "#划分训练集与测试集\n",
    "features_train, features_test, labels_train, labels_test = train_test_split(features, labels, test_size=0.3, random_state=0)"
   ]
  },
  {
   "cell_type": "code",
   "execution_count": 49,
   "metadata": {},
   "outputs": [],
   "source": [
    "over_sampler = SMOTE(random_state=0)\n",
    "os_features,os_labels = over_sampler.fit_resample(features_train,labels_train)"
   ]
  },
  {
   "cell_type": "code",
   "execution_count": 66,
   "metadata": {},
   "outputs": [
    {
     "name": "stdout",
     "output_type": "stream",
     "text": [
      "199019\n",
      "199019\n"
     ]
    }
   ],
   "source": [
    "#训练集正反例样本数\n",
    "print(len(os_labels[os_labels[\"Class\"]==1]))\n",
    "print(len(os_labels[os_labels[\"Class\"]==0]))"
   ]
  },
  {
   "cell_type": "code",
   "execution_count": 67,
   "metadata": {},
   "outputs": [
    {
     "name": "stdout",
     "output_type": "stream",
     "text": [
      "-------------------------------------\n",
      "正则化惩罚力度： 0.01\n",
      "-------------------------------------\n",
      "\n",
      "Interation 1 ：召回率 =  0.9142857142857143\n",
      "Interation 2 ：召回率 =  0.88\n",
      "Interation 3 ：召回率 =  0.9716742539200809\n",
      "Interation 4 ：召回率 =  0.9622771866795633\n",
      "Interation 5 ：召回率 =  0.9617747183036668\n",
      "\n",
      "平均召回率 0.938002374637805\n",
      "\n",
      "-------------------------------------\n",
      "正则化惩罚力度： 0.1\n",
      "-------------------------------------\n",
      "\n",
      "Interation 1 ：召回率 =  0.9142857142857143\n",
      "Interation 2 ：召回率 =  0.88\n",
      "Interation 3 ：召回率 =  0.972862923621649\n",
      "Interation 4 ：召回率 =  0.9641614430891756\n",
      "Interation 5 ：召回率 =  0.9606692878766943\n",
      "\n",
      "平均召回率 0.9383958737746466\n",
      "\n",
      "-------------------------------------\n",
      "正则化惩罚力度： 1\n",
      "-------------------------------------\n",
      "\n",
      "Interation 1 ：召回率 =  0.9142857142857143\n",
      "Interation 2 ：召回率 =  0.88\n",
      "Interation 3 ：召回率 =  0.9730905412240769\n",
      "Interation 4 ：召回率 =  0.9643373070207394\n",
      "Interation 5 ：召回率 =  0.9644629241147136\n",
      "\n",
      "平均召回率 0.9392352973290489\n",
      "\n",
      "-------------------------------------\n",
      "正则化惩罚力度： 10\n",
      "-------------------------------------\n",
      "\n",
      "Interation 1 ：召回率 =  0.9142857142857143\n",
      "Interation 2 ：召回率 =  0.88\n",
      "Interation 3 ：召回率 =  0.972635306019221\n",
      "Interation 4 ：召回率 =  0.963357493687741\n",
      "Interation 5 ：召回率 =  0.9643875538583291\n",
      "\n",
      "平均召回率 0.9389332135702011\n",
      "\n",
      "-------------------------------------\n",
      "正则化惩罚力度： 100\n",
      "-------------------------------------\n",
      "\n",
      "Interation 1 ：召回率 =  0.9142857142857143\n",
      "Interation 2 ：召回率 =  0.88\n",
      "Interation 3 ：召回率 =  0.9730905412240769\n",
      "Interation 4 ：召回率 =  0.9644252389865213\n",
      "Interation 5 ：召回率 =  0.9628675870212419\n",
      "\n",
      "平均召回率 0.9389338163035108\n",
      "\n",
      "*********************************************************************************\n",
      "效果最好的模型所选的参数 =  1.0\n",
      "*********************************************************************************\n"
     ]
    }
   ],
   "source": [
    "os_features = pd.DataFrame(os_features)\n",
    "os_labels = pd.DataFrame(os_labels)\n",
    "best_c = printing_Kfold_scores(os_features,os_labels)"
   ]
  },
  {
   "cell_type": "markdown",
   "metadata": {},
   "source": [
    "- 绘制混淆矩阵"
   ]
  },
  {
   "cell_type": "code",
   "execution_count": 69,
   "metadata": {},
   "outputs": [
    {
     "name": "stdout",
     "output_type": "stream",
     "text": [
      "召回率： 0.8843537414965986\n"
     ]
    },
    {
     "data": {
      "image/png": "[encoded data removed]",
      "text/plain": [
       "<Figure size 432x288 with 2 Axes>"
      ]
     },
     "metadata": {
      "needs_background": "light"
     },
     "output_type": "display_data"
    }
   ],
   "source": [
    "lr = LogisticRegression(C=best_c, penalty='l1', solver='liblinear')\n",
    "lr.fit(os_features.values, os_labels.values.ravel())\n",
    "y_pred = lr.predict(features_test.values)\n",
    "\n",
    "cnf_matrix = confusion_matrix(labels_test, y_pred)\n",
    "np.set_printoptions(precision=2)\n",
    "\n",
    "print(\"召回率：\",cnf_matrix[1,1]/(cnf_matrix[1,0]+cnf_matrix[1,1]))\n",
    "\n",
    "#绘制\n",
    "class_names = [0,1]\n",
    "plot_confusion_matrix(cnf_matrix, classes=class_names, title='Confusion matrix')\n"
   ]
  },
  {
   "cell_type": "markdown",
   "metadata": {},
   "source": [
    "- 召回率相较欠采样有所下降，但是误杀比例大大下降\n",
    "- 再根据实际任务需求选择方案"
   ]
  },
  {
   "cell_type": "markdown",
   "metadata": {},
   "source": [
    "`注意：`对于不同的任务与数据源，没有一成不变的答案，任何结果都需要通过实验证明，所以当大家遇到问题时，最好的解决方案就是通过大量的实验分析"
   ]
  },
  {
   "cell_type": "markdown",
   "metadata": {},
   "source": [
    "### 项目总结\n",
    "\n",
    "（1）我们做任务工作之前都一定要先进行数据检查，看看数据有什么问题，针对这些问题来选择解决方案。在此项目中，我们首选对数据进行了观察，发现了其中样本不均衡的问题。\n",
    "\n",
    "（2）这里我们提出了两种方法，下采样和过采样，两条路线来进行对比实验，任何实际问题来了之后，我们都不会一条路走到黑的，没有对比就没有伤害，通常都会得到一个基础模型，然后对各种方法进行对比，找到最合适的，所以在任务开始之前，一定得多动脑筋多一手准备，得到的结果才有可选择的余地。\n",
    "\n",
    "（3）在建模之前，需要对数据进行各种预处理的操作，比如数据标准化，缺失值填充等，这些都是必要操作，由于数据本身已经给定了特征，此处我们还没有提到特征工程这个概念，后续实战中我们会逐步引入，其实数据预处理的工作是整个任务中最为最重也是最苦的一个阶段，数据处理的好不好对结果的影响是最大的。\n",
    "\n",
    "（4）先选好评估方法，再进行建模。建模的目的就是为了得到结果，但是我们不可能一次就得到最好的结果，肯定要尝试很多次，所以一定得有一个合适的评估方法，可以用这些通用的，比如Recall，准确率等，也可以根据实际问题自己指定评估指标。\n",
    "\n",
    "（5）选择合适的算法，这里我们使用的是逻辑回归，也详细分析了其中的细节，这是因为我们刚刚讲解完逻辑回归的原理就拿它来练手了，之后我们还会讲解其他算法，并不一定非要用逻辑回归来完成这个任务，其他算法可能效果会更好。但是有一点我希望大家能够理解就是在机器学习中并不是越复杂的算法越实用，恰恰相反，越简单的算法反而应用的越广泛。逻辑回归就是其中一个典型的代表了，简单实用，所以任何分类问题都可以把逻辑回归当做一个待比较的基础模型。\n",
    "\n",
    "（6）模型的调参也是很重要的，之前我们通过实验也发现了不同的参数可能会对结果产生较大的影响，这一步也是必须的，后续实战内容我们还会来强调调参的细节，这里就简单概述一下了。对于参数我建立大家在使用工具包的时候先看看其API文档，知道每一个参数的意义，再来实验选择合适的参数值。\n",
    "\n",
    "（7）得到的结果一定要和实际任务结合在一起，有时候虽然得到的结果指标还不错，但是实际应用却成了问题，所以测试环节也是必不可少的。"
   ]
  }
 ],
 "metadata": {
  "kernelspec": {
   "display_name": "Python 3",
   "language": "python",
   "name": "python3"
  },
  "language_info": {
   "codemirror_mode": {
    "name": "ipython",
    "version": 3
   },
   "file_extension": ".py",
   "mimetype": "text/x-python",
   "name": "python",
   "nbconvert_exporter": "python",
   "pygments_lexer": "ipython3",
   "version": "3.8.3"
  }
 },
 "nbformat": 4,
 "nbformat_minor": 4
}
